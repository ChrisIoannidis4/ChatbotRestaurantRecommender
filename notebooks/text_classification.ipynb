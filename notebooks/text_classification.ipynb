{
 "cells": [
  {
   "cell_type": "markdown",
   "metadata": {},
   "source": [
    "Install necessary packages."
   ]
  },
  {
   "cell_type": "code",
   "execution_count": 1,
   "metadata": {},
   "outputs": [],
   "source": [
    "# %pip install scikit-learn"
   ]
  },
  {
   "cell_type": "markdown",
   "metadata": {},
   "source": [
    "Load dataset."
   ]
  },
  {
   "cell_type": "code",
   "execution_count": 2,
   "metadata": {},
   "outputs": [],
   "source": [
    "# Step 1: Open the file in read mode\n",
    "with open('../data/dialog_acts.dat', 'r') as file:\n",
    "    # Step 2: Read the content of the file\n",
    "    data = file.read().split('\\n')\n",
    "\n",
    "# Step 3: Display the content\n",
    "# print(data)\n",
    "\n",
    "# Lists of  dialog acts and their descriptions\n",
    "dialog_acts = [\"ack\", \"affirm\", \"bye\", \"confirm\", \"deny\", \"hello\", \"inform\", \"negate\", \"null\", \"repeat\", \"reqalts\", \"reqmore\", \"request\", \"restart\", \"thankyou\"]\n",
    "# descriptions = [\"acknowledgment\", \"positive confirmation\", \"greeting at the end of the dialog\", \"check if given information confirms to query\", \"reject system suggestion\", \"greeting at the start of the dialog\", \"state a preference or other information\", \"negation\", \"noise or utterance without content\", \"ask for repetition\", \"request alternative suggestions\", \"request more suggestions\", \"ask for information\", \"attempt to restart the dialog\", \"express thanks\"]"
   ]
  },
  {
   "cell_type": "markdown",
   "metadata": {},
   "source": [
    "From the assignment descripition: \"In case an utterance was labeled with two different dialog acts, only the first dialog act is used as a label\". See below. After testing, doesn't seem appliccable here, all lines where the first AND second word of are in the dialog_act list, word1 and word2 are the same, so it is not a different dialog act. There seems to be one line which is empty."
   ]
  },
  {
   "cell_type": "code",
   "execution_count": 3,
   "metadata": {},
   "outputs": [],
   "source": [
    "# # Check if first or first two words are dialog acts and which one(s)\n",
    "# for line in data:\n",
    "#     words = line.split()\n",
    "#     if len(words) < 2:\n",
    "#         print(words)\n",
    "#         continue\n",
    "#     if ((words[0] in dialog_acts) and (words[1] in dialog_acts) and (words[0] != words[1])):\n",
    "#         print(words)"
   ]
  },
  {
   "cell_type": "markdown",
   "metadata": {},
   "source": [
    "Let's create a pandas DataFrame."
   ]
  },
  {
   "cell_type": "code",
   "execution_count": 4,
   "metadata": {},
   "outputs": [
    {
     "data": {
      "text/html": [
       "<div>\n",
       "<style scoped>\n",
       "    .dataframe tbody tr th:only-of-type {\n",
       "        vertical-align: middle;\n",
       "    }\n",
       "\n",
       "    .dataframe tbody tr th {\n",
       "        vertical-align: top;\n",
       "    }\n",
       "\n",
       "    .dataframe thead th {\n",
       "        text-align: right;\n",
       "    }\n",
       "</style>\n",
       "<table border=\"1\" class=\"dataframe\">\n",
       "  <thead>\n",
       "    <tr style=\"text-align: right;\">\n",
       "      <th></th>\n",
       "      <th>sentence</th>\n",
       "      <th>label</th>\n",
       "    </tr>\n",
       "  </thead>\n",
       "  <tbody>\n",
       "    <tr>\n",
       "      <th>0</th>\n",
       "      <td>im looking for a moderately priced restaurant ...</td>\n",
       "      <td>inform</td>\n",
       "    </tr>\n",
       "    <tr>\n",
       "      <th>1</th>\n",
       "      <td>any part of town</td>\n",
       "      <td>inform</td>\n",
       "    </tr>\n",
       "    <tr>\n",
       "      <th>2</th>\n",
       "      <td>bistro food</td>\n",
       "      <td>inform</td>\n",
       "    </tr>\n",
       "    <tr>\n",
       "      <th>3</th>\n",
       "      <td>is there a moderately priced restaurant that s...</td>\n",
       "      <td>confirm</td>\n",
       "    </tr>\n",
       "    <tr>\n",
       "      <th>4</th>\n",
       "      <td>yes</td>\n",
       "      <td>affirm</td>\n",
       "    </tr>\n",
       "  </tbody>\n",
       "</table>\n",
       "</div>"
      ],
      "text/plain": [
       "                                            sentence    label\n",
       "0  im looking for a moderately priced restaurant ...   inform\n",
       "1                                   any part of town   inform\n",
       "2                                        bistro food   inform\n",
       "3  is there a moderately priced restaurant that s...  confirm\n",
       "4                                                yes   affirm"
      ]
     },
     "execution_count": 4,
     "metadata": {},
     "output_type": "execute_result"
    }
   ],
   "source": [
    "import pandas as pd\n",
    "\n",
    "label = []\n",
    "sentence = []\n",
    "for line in data:\n",
    "    if line > '':\n",
    "        line = line.split()\n",
    "        label.append(line[0])\n",
    "        sentence.append(\" \".join(line[1:]))\n",
    "    \n",
    "df = pd.DataFrame({'sentence': sentence, 'label': label})\n",
    "df.head()"
   ]
  },
  {
   "cell_type": "markdown",
   "metadata": {},
   "source": [
    "Split data into training and test datasets."
   ]
  },
  {
   "cell_type": "code",
   "execution_count": 5,
   "metadata": {},
   "outputs": [
    {
     "name": "stdout",
     "output_type": "stream",
     "text": [
      "sentence\n",
      "thank you good bye                              2565\n",
      "phone number                                     914\n",
      "yes                                              803\n",
      "address                                          678\n",
      "i dont care                                      613\n",
      "                                                ... \n",
      "west part of town cuban food                       1\n",
      "priced                                             1\n",
      "lebanese restaurant in the west part of town       1\n",
      "tailand                                            1\n",
      "im looking for korean food any price range         1\n",
      "Name: count, Length: 5359, dtype: int64\n"
     ]
    }
   ],
   "source": [
    "print(df['sentence'].value_counts())"
   ]
  },
  {
   "cell_type": "markdown",
   "metadata": {},
   "source": [
    "Plot thedistribution of the data across the labels: very skew, this can give problems of imbalanced classes."
   ]
  },
  {
   "cell_type": "code",
   "execution_count": 6,
   "metadata": {},
   "outputs": [
    {
     "name": "stdout",
     "output_type": "stream",
     "text": [
      "label\n",
      "inform      10160\n",
      "request      6494\n",
      "thankyou     3259\n",
      "reqalts      1747\n",
      "null         1612\n",
      "affirm       1156\n",
      "negate        435\n",
      "bye           266\n",
      "confirm       172\n",
      "hello          93\n",
      "repeat         33\n",
      "ack            28\n",
      "deny           27\n",
      "restart        14\n",
      "reqmore         5\n",
      "Name: count, dtype: int64\n",
      "Total amount of distinct labels: 15\n"
     ]
    },
    {
     "data": {
      "image/png": "[encoded data removed]",
      "text/plain": [
       "<Figure size 640x480 with 1 Axes>"
      ]
     },
     "metadata": {},
     "output_type": "display_data"
    }
   ],
   "source": [
    "print(df['label'].value_counts())\n",
    "print(\"Total amount of distinct labels:\", df['label'].nunique())\n",
    "\n",
    "import matplotlib.pyplot as plt\n",
    "\n",
    "# df is our DataFrame and it has a 'label' column\n",
    "plot = df['label'].value_counts().plot(kind='bar', title='Dialog Acts Distribution')\n",
    "plot.set_xlabel('Dialog Act')\n",
    "plot.set_ylabel('Frequency')\n",
    "\n",
    "# Display the plot\n",
    "plt.show()"
   ]
  },
  {
   "cell_type": "markdown",
   "metadata": {},
   "source": [
    "Transform the textual labels into numerical labels, for ML models to work with."
   ]
  },
  {
   "cell_type": "code",
   "execution_count": 7,
   "metadata": {},
   "outputs": [
    {
     "name": "stdout",
     "output_type": "stream",
     "text": [
      "                                            sentence    label  numerical_label\n",
      "0  im looking for a moderately priced restaurant ...   inform                6\n",
      "1                                   any part of town   inform                6\n",
      "2                                        bistro food   inform                6\n",
      "3  is there a moderately priced restaurant that s...  confirm                3\n",
      "4                                                yes   affirm                1\n"
     ]
    }
   ],
   "source": [
    "import pandas as pd\n",
    "from sklearn.preprocessing import LabelEncoder\n",
    "\n",
    "# Initialize LabelEncoder\n",
    "label_encoder = LabelEncoder()\n",
    "\n",
    "# Fit and transform the labels\n",
    "df['numerical_label'] = label_encoder.fit_transform(df['label'])\n",
    "\n",
    "# Display the DataFrame with numerical labels\n",
    "print(df.head())\n"
   ]
  },
  {
   "cell_type": "markdown",
   "metadata": {},
   "source": [
    "Create look-up table: to convert the numerical labels back to the textual labels."
   ]
  },
  {
   "cell_type": "code",
   "execution_count": 8,
   "metadata": {},
   "outputs": [
    {
     "name": "stdout",
     "output_type": "stream",
     "text": [
      "{0: 'ack', 1: 'affirm', 2: 'bye', 3: 'confirm', 4: 'deny', 5: 'hello', 6: 'inform', 7: 'negate', 8: 'null', 9: 'repeat', 10: 'reqalts', 11: 'reqmore', 12: 'request', 13: 'restart', 14: 'thankyou'}\n"
     ]
    }
   ],
   "source": [
    "# Create a dictionary to map the numerical labels back to the original labels\n",
    "\n",
    "lookup_table = {index: label for index, label in enumerate(label_encoder.classes_)}\n",
    "print(lookup_table)"
   ]
  },
  {
   "cell_type": "markdown",
   "metadata": {},
   "source": [
    "Split the data according to the assignment descriptions: 85% training data and a 15% testset."
   ]
  },
  {
   "cell_type": "code",
   "execution_count": 9,
   "metadata": {},
   "outputs": [],
   "source": [
    "from sklearn.model_selection import train_test_split\n",
    "\n",
    "X_train, X_test, y_train, y_test = train_test_split(df[\"sentence\"],df[\"numerical_label\"],test_size=0.15,shuffle=True)"
   ]
  },
  {
   "cell_type": "markdown",
   "metadata": {},
   "source": [
    "Check if split went well."
   ]
  },
  {
   "cell_type": "code",
   "execution_count": 10,
   "metadata": {},
   "outputs": [
    {
     "name": "stdout",
     "output_type": "stream",
     "text": [
      "(21675,)\n",
      "(3826,)\n",
      "(21675,)\n",
      "(3826,)\n",
      "Training size: 84.9966667973805\n",
      "Test size: 15.003333202619503\n",
      "Sample training data: im looking for a moderately priced restaurant that serves\n"
     ]
    }
   ],
   "source": [
    "print(X_train.shape)\n",
    "print(X_test.shape)\n",
    "print(y_train.shape)\n",
    "print(y_test.shape)\n",
    "\n",
    "print(\"Training size:\", (X_train.shape[0]/len(df)) * 100)\n",
    "print(\"Test size:\", (X_test.shape[0]/len(df)) * 100)\n",
    "\n",
    "print(\"Sample training data:\", X_train[0])"
   ]
  },
  {
   "cell_type": "markdown",
   "metadata": {},
   "source": [
    "Basline Model 1: always assign the majority label plus evaluation in accuracy."
   ]
  },
  {
   "cell_type": "code",
   "execution_count": 11,
   "metadata": {},
   "outputs": [
    {
     "data": {
      "text/plain": [
       "0.39841574840202343"
      ]
     },
     "execution_count": 11,
     "metadata": {},
     "output_type": "execute_result"
    }
   ],
   "source": [
    "def baseline_model_majority(data):\n",
    "    \"\"\"Baseline model always returns the majority class\"\"\"\n",
    "    # return data.value_counts().idxmax()\n",
    "    return 6\n",
    "\n",
    "def evaluate_baseline(data, labels):\n",
    "    \"\"\"Evaluate the baseline model\"\"\"\n",
    "    predictions = [baseline_model_majority(data) for _ in range(len(data))]\n",
    "    accuracy = sum(predictions == labels) / len(labels)\n",
    "    return accuracy\n",
    "\n",
    "baseline_model_majority(df['sentence'])\n",
    "evaluate_baseline(df['sentence'], df['numerical_label'])"
   ]
  },
  {
   "cell_type": "markdown",
   "metadata": {},
   "source": [
    "Baseline model 2: handcrafted keyword selection plus a more extensive evaluation, such that I was able to adapt the keywords according to the results."
   ]
  },
  {
   "cell_type": "code",
   "execution_count": 12,
   "metadata": {},
   "outputs": [
    {
     "name": "stdout",
     "output_type": "stream",
     "text": [
      "              precision    recall  f1-score   support\n",
      "\n",
      "         ack       0.60      0.43      0.50        28\n",
      "      affirm       1.00      0.94      0.97      1156\n",
      "         bye       1.00      0.78      0.88       266\n",
      "     confirm       0.29      0.35      0.32       172\n",
      "        deny       0.68      0.93      0.78        27\n",
      "       hello       0.94      0.98      0.96        93\n",
      "      inform       0.88      0.77      0.82     10160\n",
      "      negate       0.58      0.18      0.27       435\n",
      "        null       0.33      0.96      0.50      1612\n",
      "      repeat       1.00      0.85      0.92        33\n",
      "     reqalts       0.88      0.52      0.66      1747\n",
      "     reqmore       1.00      1.00      1.00         5\n",
      "     request       0.99      0.89      0.94      6494\n",
      "     restart       1.00      1.00      1.00        14\n",
      "    thankyou       0.99      0.99      0.99      3259\n",
      "\n",
      "    accuracy                           0.82     25501\n",
      "   macro avg       0.81      0.77      0.77     25501\n",
      "weighted avg       0.89      0.82      0.84     25501\n",
      "\n"
     ]
    }
   ],
   "source": [
    "import pandas as pd\n",
    "import re\n",
    "from sklearn.metrics import classification_report\n",
    "\n",
    "def baseline_model_rules(data):\n",
    "    \"\"\"Baseline model based on hand-crafted rules: keyword matching\"\"\"\n",
    "    keywords = {\n",
    "        'ack': [r'\\b(thatll do dear|im good|just pick|well take|okay um|great day)\\b'],\n",
    "        'affirm': [r'\\b(ye|yes|yeah)\\b', r'^(right)$'],\n",
    "        'bye': [r'\\b(okay thank you and good bye|alright thank you good bye|see you)\\b', r'^(goodbye|good bye|bye)$'],\n",
    "        'confirm': [r'\\b(does it|do they)\\b'],\n",
    "        'deny': [r'\\b(dont want|no not|wrong|something else|not important)\\b'],\n",
    "        'hello': [r'\\b(hello|hi|hey)\\b'],\n",
    "        'inform': [r'\\b(spanish|italian|east|west|it doesnt matter|korean|moroccan|center|north|doesnt matter|expensive|cheap|south|any|dont care|vietnamese|irish|spaninsh|oriental|portugese|indian|lebanese|thai|chinese|african|asian|part|town|priced|moderate|gastropub)\\b'],\n",
    "        'negate': [r'\\b(no |not|never)\\b'],\n",
    "        'null': [r'\\b(sil|noise|cough|unintelligible\\n)\\b'],\n",
    "        'repeat': [r'\\b(try this again|again please)\\b', r'^(please repeat|back|again|repeat|repeat that|go back|can you repeat that)$'],\n",
    "        'reqalts': [r'\\b(how about|what about|next|anything else|is there)\\b'],\n",
    "        'reqmore': [r'^(more)$'],\n",
    "        'request': [r'\\b(type of food|phone number|address|need|post code|price range)\\b'],\n",
    "        'restart': [r'\\b(start|oh jesus|reset)\\b'],\n",
    "        'thankyou': [r'\\b(thank you|thanks|appreciate|thank you good bye)\\b']\n",
    "    }\n",
    "    \n",
    "    def match_keywords(sentence):\n",
    "        matches = []\n",
    "        for label, patterns in keywords.items():\n",
    "            for pattern in patterns:\n",
    "                if re.search(pattern, sentence.lower()):\n",
    "                    matches.append(label)\n",
    "        return matches[0] if matches else 'null'  # Return first match or 'null'\n",
    "\n",
    "    predictions = data.apply(match_keywords)\n",
    "    return predictions\n",
    "\n",
    "# Assuming df is your DataFrame with 'sentence' and 'label' columns\n",
    "predictions = baseline_model_rules(df['sentence'])\n",
    "\n",
    "# Evaluate the baseline model\n",
    "print(classification_report(df['label'], predictions))\n"
   ]
  },
  {
   "cell_type": "markdown",
   "metadata": {},
   "source": [
    "**Setup of our machine learning (ML) pipeline**\n",
    "\n",
    "We will use Bag-of-Words (BOW) as input for our ML classifiers. Preprocessing may also involve many steps like tokenization, removing stop words, stemming/lemmatization etc."
   ]
  },
  {
   "cell_type": "code",
   "execution_count": 13,
   "metadata": {},
   "outputs": [],
   "source": [
    "# Bag of words (BOW)\n",
    "from sklearn.feature_extraction.text import CountVectorizer\n",
    "import numpy as np\n",
    "\n",
    "# Initialize CountVectorizer\n",
    "vectorizer = CountVectorizer()\n",
    "\n",
    "# Fit and transform X_train to BOW representation\n",
    "X_train_bow = vectorizer.fit_transform(X_train)\n",
    "X_test_bow = vectorizer.transform(X_test)\n",
    "\n",
    "# Convert to array for better readability (optional)\n",
    "X_train_bow_array = X_train_bow.toarray()\n",
    "X_test_bow_array = X_test_bow.toarray()\n",
    "\n",
    "# # print(\"Feature names:\", vectorizer.get_feature_names_out())\n",
    "# print(\"Normal representation:\\n\", X_train[0])\n",
    "# print(\"BOW representation:\\n\", X_train_bow[0])\n",
    "# print(\"BOW representation:\\n\", X_train_bow_array[0])\n",
    "# # Count the number of 1's in X_train_bow_array[0]\n",
    "# count_ones = np.count_nonzero(X_train_bow_array[0] == 1)\n",
    "# print(\"Number of 1's in X_train_bow_array[0]:\", count_ones)"
   ]
  },
  {
   "cell_type": "markdown",
   "metadata": {},
   "source": [
    "1. ML1: Decision Tree"
   ]
  },
  {
   "cell_type": "code",
   "execution_count": 14,
   "metadata": {},
   "outputs": [],
   "source": [
    "from sklearn import tree\n",
    "\n",
    "clf = tree.DecisionTreeClassifier()\n",
    "clf = clf.fit(X_train_bow, y_train)\n"
   ]
  },
  {
   "cell_type": "code",
   "execution_count": 15,
   "metadata": {},
   "outputs": [
    {
     "name": "stdout",
     "output_type": "stream",
     "text": [
      "Accuracy: 0.9764767381076843\n",
      "Precision: 0.9779990316680564\n",
      "Recall: 0.9764767381076843\n",
      "F1 Score: 0.9767262213534046\n",
      "Confusion Matrix:\n",
      " [[   4    0    0    0    0    0    0    0    1    0    0    0    0    0]\n",
      " [   0  163    0    0    0    0    1    0    0    0    0    1    0    0]\n",
      " [   0    0   39    0    0    0    0    0    0    0    0    0    0    2]\n",
      " [   0    0    0   23    0    0    1    0    0    0    1    4    0    0]\n",
      " [   0    0    0    0    1    0    1    1    0    0    0    0    0    0]\n",
      " [   0    0    0    0    0   13    0    0    0    0    0    0    0    0]\n",
      " [   1    0    0    1    1    0 1486    1   30    0    8    4    0    1]\n",
      " [   0    0    0    0    0    0    1   62    0    0    0    0    0    0]\n",
      " [   0    0    0    0    0    0    1    0  223    0    0    1    0    0]\n",
      " [   0    0    0    0    0    0    0    0    1    5    0    0    0    0]\n",
      " [   1    0    0    0    0    0    7    0    5    0  240    0    0    0]\n",
      " [   0    0    0    0    0    0    2    1    4    0    1  954    0    0]\n",
      " [   0    0    0    0    0    0    0    0    0    0    0    0    1    0]\n",
      " [   0    0    4    0    0    0    0    0    1    0    0    0    0  522]]\n",
      "Classification Report:\n",
      "               precision    recall  f1-score   support\n",
      "\n",
      "           0       0.67      0.80      0.73         5\n",
      "           1       1.00      0.99      0.99       165\n",
      "           2       0.91      0.95      0.93        41\n",
      "           3       0.96      0.79      0.87        29\n",
      "           4       0.50      0.33      0.40         3\n",
      "           5       1.00      1.00      1.00        13\n",
      "           6       0.99      0.97      0.98      1533\n",
      "           7       0.95      0.98      0.97        63\n",
      "           8       0.84      0.99      0.91       225\n",
      "           9       1.00      0.83      0.91         6\n",
      "          10       0.96      0.95      0.95       253\n",
      "          12       0.99      0.99      0.99       962\n",
      "          13       1.00      1.00      1.00         1\n",
      "          14       0.99      0.99      0.99       527\n",
      "\n",
      "    accuracy                           0.98      3826\n",
      "   macro avg       0.91      0.90      0.90      3826\n",
      "weighted avg       0.98      0.98      0.98      3826\n",
      "\n"
     ]
    }
   ],
   "source": [
    "from sklearn.metrics import accuracy_score, precision_score, recall_score, f1_score, confusion_matrix, classification_report\n",
    "\n",
    "# Make predictions on the test data\n",
    "y_pred = clf.predict(X_test_bow)\n",
    "\n",
    "# Calculate evaluation metrics\n",
    "accuracy = accuracy_score(y_test, y_pred)\n",
    "precision = precision_score(y_test, y_pred, average='weighted')\n",
    "recall = recall_score(y_test, y_pred, average='weighted')\n",
    "f1 = f1_score(y_test, y_pred, average='weighted')\n",
    "conf_matrix = confusion_matrix(y_test, y_pred)\n",
    "class_report = classification_report(y_test, y_pred)\n",
    "\n",
    "# Print evaluation metrics\n",
    "print(\"Accuracy:\", accuracy)\n",
    "print(\"Precision:\", precision)\n",
    "print(\"Recall:\", recall)\n",
    "print(\"F1 Score:\", f1)\n",
    "print(\"Confusion Matrix:\\n\", conf_matrix)\n",
    "print(\"Classification Report:\\n\", class_report)"
   ]
  },
  {
   "cell_type": "markdown",
   "metadata": {},
   "source": [
    "2. ML2: Logistic Regression Classifier"
   ]
  },
  {
   "cell_type": "code",
   "execution_count": 16,
   "metadata": {},
   "outputs": [
    {
     "name": "stdout",
     "output_type": "stream",
     "text": [
      "Accuracy: 0.9803972817564035\n",
      "Precision: 0.9791796893755179\n",
      "Recall: 0.9803972817564035\n",
      "F1 Score: 0.9795611706594028\n",
      "Confusion Matrix:\n",
      " [[   0    0    0    0    0    0    2    0    3    0    0    0    0    0]\n",
      " [   0  164    0    0    0    0    0    0    1    0    0    0    0    0]\n",
      " [   0    0   38    0    0    0    0    0    1    0    0    0    0    2]\n",
      " [   0    0    0   27    0    0    2    0    0    0    0    0    0    0]\n",
      " [   0    0    0    0    1    0    0    1    0    0    1    0    0    0]\n",
      " [   0    0    0    0    0   13    0    0    0    0    0    0    0    0]\n",
      " [   1    0    0    1    0    0 1511    0    2    0   13    4    0    1]\n",
      " [   0    0    0    0    0    0    0   63    0    0    0    0    0    0]\n",
      " [   0    0    0    0    0    0   16    0  206    0    0    3    0    0]\n",
      " [   0    0    0    0    0    0    2    0    0    4    0    0    0    0]\n",
      " [   0    0    0    1    0    0    5    0    3    0  244    0    0    0]\n",
      " [   0    0    0    0    0    0    2    1    0    0    0  959    0    0]\n",
      " [   0    0    0    0    0    0    1    0    0    0    0    0    0    0]\n",
      " [   0    0    5    0    0    0    1    0    0    0    0    0    0  521]]\n",
      "Classification Report:\n",
      "               precision    recall  f1-score   support\n",
      "\n",
      "           0       0.00      0.00      0.00         5\n",
      "           1       1.00      0.99      1.00       165\n",
      "           2       0.88      0.93      0.90        41\n",
      "           3       0.93      0.93      0.93        29\n",
      "           4       1.00      0.33      0.50         3\n",
      "           5       1.00      1.00      1.00        13\n",
      "           6       0.98      0.99      0.98      1533\n",
      "           7       0.97      1.00      0.98        63\n",
      "           8       0.95      0.92      0.93       225\n",
      "           9       1.00      0.67      0.80         6\n",
      "          10       0.95      0.96      0.95       253\n",
      "          12       0.99      1.00      0.99       962\n",
      "          13       0.00      0.00      0.00         1\n",
      "          14       0.99      0.99      0.99       527\n",
      "\n",
      "    accuracy                           0.98      3826\n",
      "   macro avg       0.83      0.76      0.78      3826\n",
      "weighted avg       0.98      0.98      0.98      3826\n",
      "\n"
     ]
    },
    {
     "name": "stderr",
     "output_type": "stream",
     "text": [
      "/Library/Frameworks/Python.framework/Versions/3.12/lib/python3.12/site-packages/sklearn/metrics/_classification.py:1517: UndefinedMetricWarning: Precision is ill-defined and being set to 0.0 in labels with no predicted samples. Use `zero_division` parameter to control this behavior.\n",
      "  _warn_prf(average, modifier, f\"{metric.capitalize()} is\", len(result))\n",
      "/Library/Frameworks/Python.framework/Versions/3.12/lib/python3.12/site-packages/sklearn/metrics/_classification.py:1517: UndefinedMetricWarning: Precision is ill-defined and being set to 0.0 in labels with no predicted samples. Use `zero_division` parameter to control this behavior.\n",
      "  _warn_prf(average, modifier, f\"{metric.capitalize()} is\", len(result))\n",
      "/Library/Frameworks/Python.framework/Versions/3.12/lib/python3.12/site-packages/sklearn/metrics/_classification.py:1517: UndefinedMetricWarning: Precision is ill-defined and being set to 0.0 in labels with no predicted samples. Use `zero_division` parameter to control this behavior.\n",
      "  _warn_prf(average, modifier, f\"{metric.capitalize()} is\", len(result))\n",
      "/Library/Frameworks/Python.framework/Versions/3.12/lib/python3.12/site-packages/sklearn/metrics/_classification.py:1517: UndefinedMetricWarning: Precision is ill-defined and being set to 0.0 in labels with no predicted samples. Use `zero_division` parameter to control this behavior.\n",
      "  _warn_prf(average, modifier, f\"{metric.capitalize()} is\", len(result))\n"
     ]
    }
   ],
   "source": [
    "# Logistic Regression Classification Model\n",
    "from sklearn.linear_model import LogisticRegression\n",
    "clf = LogisticRegression(random_state=0).fit(X_train_bow, y_train)\n",
    "\n",
    "# Make predictions on the test data\n",
    "y_pred = clf.predict(X_test_bow)\n",
    "\n",
    "# Calculate evaluation metrics\n",
    "accuracy = accuracy_score(y_test, y_pred)\n",
    "precision = precision_score(y_test, y_pred, average='weighted')\n",
    "recall = recall_score(y_test, y_pred, average='weighted')\n",
    "f1 = f1_score(y_test, y_pred, average='weighted')\n",
    "conf_matrix = confusion_matrix(y_test, y_pred)\n",
    "class_report = classification_report(y_test, y_pred)\n",
    "\n",
    "# Print evaluation metrics\n",
    "print(\"Accuracy:\", accuracy)\n",
    "print(\"Precision:\", precision)\n",
    "print(\"Recall:\", recall)\n",
    "print(\"F1 Score:\", f1)\n",
    "print(\"Confusion Matrix:\\n\", conf_matrix)\n",
    "print(\"Classification Report:\\n\", class_report)"
   ]
  },
  {
   "cell_type": "code",
   "execution_count": null,
   "metadata": {},
   "outputs": [],
   "source": []
  }
 ],
 "metadata": {
  "kernelspec": {
   "display_name": "Python 3",
   "language": "python",
   "name": "python3"
  },
  "language_info": {
   "codemirror_mode": {
    "name": "ipython",
    "version": 3
   },
   "file_extension": ".py",
   "mimetype": "text/x-python",
   "name": "python",
   "nbconvert_exporter": "python",
   "pygments_lexer": "ipython3",
   "version": "3.12.6"
  }
 },
 "nbformat": 4,
 "nbformat_minor": 2
}
