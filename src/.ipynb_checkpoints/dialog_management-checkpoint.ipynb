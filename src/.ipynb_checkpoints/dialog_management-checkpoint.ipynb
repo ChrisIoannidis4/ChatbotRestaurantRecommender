{
 "cells": [
  {
   "cell_type": "code",
   "execution_count": 14,
   "metadata": {},
   "outputs": [
    {
     "ename": "ExecutableNotFound",
     "evalue": "failed to execute WindowsPath('dot'), make sure the Graphviz executables are on your systems' PATH",
     "output_type": "error",
     "traceback": [
      "\u001b[1;31m---------------------------------------------------------------------------\u001b[0m",
      "\u001b[1;31mFileNotFoundError\u001b[0m                         Traceback (most recent call last)",
      "\u001b[1;32m~\\anaconda3\\lib\\site-packages\\graphviz\\backend\\execute.py\u001b[0m in \u001b[0;36mrun_check\u001b[1;34m(cmd, input_lines, encoding, quiet, **kwargs)\u001b[0m\n\u001b[0;32m     78\u001b[0m                 \u001b[0mkwargs\u001b[0m\u001b[1;33m[\u001b[0m\u001b[1;34m'stdout'\u001b[0m\u001b[1;33m]\u001b[0m \u001b[1;33m=\u001b[0m \u001b[0mkwargs\u001b[0m\u001b[1;33m[\u001b[0m\u001b[1;34m'stderr'\u001b[0m\u001b[1;33m]\u001b[0m \u001b[1;33m=\u001b[0m \u001b[0msubprocess\u001b[0m\u001b[1;33m.\u001b[0m\u001b[0mPIPE\u001b[0m\u001b[1;33m\u001b[0m\u001b[1;33m\u001b[0m\u001b[0m\n\u001b[1;32m---> 79\u001b[1;33m             \u001b[0mproc\u001b[0m \u001b[1;33m=\u001b[0m \u001b[0m_run_input_lines\u001b[0m\u001b[1;33m(\u001b[0m\u001b[0mcmd\u001b[0m\u001b[1;33m,\u001b[0m \u001b[0minput_lines\u001b[0m\u001b[1;33m,\u001b[0m \u001b[0mkwargs\u001b[0m\u001b[1;33m=\u001b[0m\u001b[0mkwargs\u001b[0m\u001b[1;33m)\u001b[0m\u001b[1;33m\u001b[0m\u001b[1;33m\u001b[0m\u001b[0m\n\u001b[0m\u001b[0;32m     80\u001b[0m         \u001b[1;32melse\u001b[0m\u001b[1;33m:\u001b[0m\u001b[1;33m\u001b[0m\u001b[1;33m\u001b[0m\u001b[0m\n",
      "\u001b[1;32m~\\anaconda3\\lib\\site-packages\\graphviz\\backend\\execute.py\u001b[0m in \u001b[0;36m_run_input_lines\u001b[1;34m(cmd, input_lines, kwargs)\u001b[0m\n\u001b[0;32m     98\u001b[0m \u001b[1;32mdef\u001b[0m \u001b[0m_run_input_lines\u001b[0m\u001b[1;33m(\u001b[0m\u001b[0mcmd\u001b[0m\u001b[1;33m,\u001b[0m \u001b[0minput_lines\u001b[0m\u001b[1;33m,\u001b[0m \u001b[1;33m*\u001b[0m\u001b[1;33m,\u001b[0m \u001b[0mkwargs\u001b[0m\u001b[1;33m)\u001b[0m\u001b[1;33m:\u001b[0m\u001b[1;33m\u001b[0m\u001b[1;33m\u001b[0m\u001b[0m\n\u001b[1;32m---> 99\u001b[1;33m     \u001b[0mpopen\u001b[0m \u001b[1;33m=\u001b[0m \u001b[0msubprocess\u001b[0m\u001b[1;33m.\u001b[0m\u001b[0mPopen\u001b[0m\u001b[1;33m(\u001b[0m\u001b[0mcmd\u001b[0m\u001b[1;33m,\u001b[0m \u001b[0mstdin\u001b[0m\u001b[1;33m=\u001b[0m\u001b[0msubprocess\u001b[0m\u001b[1;33m.\u001b[0m\u001b[0mPIPE\u001b[0m\u001b[1;33m,\u001b[0m \u001b[1;33m**\u001b[0m\u001b[0mkwargs\u001b[0m\u001b[1;33m)\u001b[0m\u001b[1;33m\u001b[0m\u001b[1;33m\u001b[0m\u001b[0m\n\u001b[0m\u001b[0;32m    100\u001b[0m \u001b[1;33m\u001b[0m\u001b[0m\n",
      "\u001b[1;32m~\\anaconda3\\lib\\subprocess.py\u001b[0m in \u001b[0;36m__init__\u001b[1;34m(self, args, bufsize, executable, stdin, stdout, stderr, preexec_fn, close_fds, shell, cwd, env, universal_newlines, startupinfo, creationflags, restore_signals, start_new_session, pass_fds, user, group, extra_groups, encoding, errors, text, umask)\u001b[0m\n\u001b[0;32m    950\u001b[0m \u001b[1;33m\u001b[0m\u001b[0m\n\u001b[1;32m--> 951\u001b[1;33m             self._execute_child(args, executable, preexec_fn, close_fds,\n\u001b[0m\u001b[0;32m    952\u001b[0m                                 \u001b[0mpass_fds\u001b[0m\u001b[1;33m,\u001b[0m \u001b[0mcwd\u001b[0m\u001b[1;33m,\u001b[0m \u001b[0menv\u001b[0m\u001b[1;33m,\u001b[0m\u001b[1;33m\u001b[0m\u001b[1;33m\u001b[0m\u001b[0m\n",
      "\u001b[1;32m~\\anaconda3\\lib\\subprocess.py\u001b[0m in \u001b[0;36m_execute_child\u001b[1;34m(self, args, executable, preexec_fn, close_fds, pass_fds, cwd, env, startupinfo, creationflags, shell, p2cread, p2cwrite, c2pread, c2pwrite, errread, errwrite, unused_restore_signals, unused_gid, unused_gids, unused_uid, unused_umask, unused_start_new_session)\u001b[0m\n\u001b[0;32m   1419\u001b[0m             \u001b[1;32mtry\u001b[0m\u001b[1;33m:\u001b[0m\u001b[1;33m\u001b[0m\u001b[1;33m\u001b[0m\u001b[0m\n\u001b[1;32m-> 1420\u001b[1;33m                 hp, ht, pid, tid = _winapi.CreateProcess(executable, args,\n\u001b[0m\u001b[0;32m   1421\u001b[0m                                          \u001b[1;31m# no special security\u001b[0m\u001b[1;33m\u001b[0m\u001b[1;33m\u001b[0m\u001b[0m\n",
      "\u001b[1;31mFileNotFoundError\u001b[0m: [WinError 2] Het systeem kan het opgegeven bestand niet vinden",
      "\nThe above exception was the direct cause of the following exception:\n",
      "\u001b[1;31mExecutableNotFound\u001b[0m                        Traceback (most recent call last)",
      "\u001b[1;32m~\\AppData\\Local\\Temp/ipykernel_28360/1007993110.py\u001b[0m in \u001b[0;36m<module>\u001b[1;34m\u001b[0m\n\u001b[0;32m     59\u001b[0m \u001b[1;33m\u001b[0m\u001b[0m\n\u001b[0;32m     60\u001b[0m \u001b[1;33m\u001b[0m\u001b[0m\n\u001b[1;32m---> 61\u001b[1;33m \u001b[0mimg\u001b[0m \u001b[1;33m=\u001b[0m \u001b[0mdiagram\u001b[0m\u001b[1;33m.\u001b[0m\u001b[0mpipe\u001b[0m\u001b[1;33m(\u001b[0m\u001b[0mformat\u001b[0m\u001b[1;33m=\u001b[0m\u001b[1;34m'png'\u001b[0m\u001b[1;33m)\u001b[0m  \u001b[1;31m# Render diagram in memory\u001b[0m\u001b[1;33m\u001b[0m\u001b[1;33m\u001b[0m\u001b[0m\n\u001b[0m\u001b[0;32m     62\u001b[0m \u001b[0mdisplay\u001b[0m\u001b[1;33m(\u001b[0m\u001b[0mImage\u001b[0m\u001b[1;33m(\u001b[0m\u001b[0mimg\u001b[0m\u001b[1;33m)\u001b[0m\u001b[1;33m)\u001b[0m  \u001b[1;31m# Display image directly in the notebook\u001b[0m\u001b[1;33m\u001b[0m\u001b[1;33m\u001b[0m\u001b[0m\n",
      "\u001b[1;32m~\\anaconda3\\lib\\site-packages\\graphviz\\piping.py\u001b[0m in \u001b[0;36mpipe\u001b[1;34m(self, format, renderer, formatter, neato_no_op, quiet, engine, encoding)\u001b[0m\n\u001b[0;32m    102\u001b[0m             \u001b[1;34m'<?xml version='\u001b[0m\u001b[1;33m\u001b[0m\u001b[1;33m\u001b[0m\u001b[0m\n\u001b[0;32m    103\u001b[0m         \"\"\"\n\u001b[1;32m--> 104\u001b[1;33m         return self._pipe_legacy(format,\n\u001b[0m\u001b[0;32m    105\u001b[0m                                  \u001b[0mrenderer\u001b[0m\u001b[1;33m=\u001b[0m\u001b[0mrenderer\u001b[0m\u001b[1;33m,\u001b[0m\u001b[1;33m\u001b[0m\u001b[1;33m\u001b[0m\u001b[0m\n\u001b[0;32m    106\u001b[0m                                  \u001b[0mformatter\u001b[0m\u001b[1;33m=\u001b[0m\u001b[0mformatter\u001b[0m\u001b[1;33m,\u001b[0m\u001b[1;33m\u001b[0m\u001b[1;33m\u001b[0m\u001b[0m\n",
      "\u001b[1;32m~\\anaconda3\\lib\\site-packages\\graphviz\\_tools.py\u001b[0m in \u001b[0;36mwrapper\u001b[1;34m(*args, **kwargs)\u001b[0m\n\u001b[0;32m    169\u001b[0m                               category=category)\n\u001b[0;32m    170\u001b[0m \u001b[1;33m\u001b[0m\u001b[0m\n\u001b[1;32m--> 171\u001b[1;33m             \u001b[1;32mreturn\u001b[0m \u001b[0mfunc\u001b[0m\u001b[1;33m(\u001b[0m\u001b[1;33m*\u001b[0m\u001b[0margs\u001b[0m\u001b[1;33m,\u001b[0m \u001b[1;33m**\u001b[0m\u001b[0mkwargs\u001b[0m\u001b[1;33m)\u001b[0m\u001b[1;33m\u001b[0m\u001b[1;33m\u001b[0m\u001b[0m\n\u001b[0m\u001b[0;32m    172\u001b[0m \u001b[1;33m\u001b[0m\u001b[0m\n\u001b[0;32m    173\u001b[0m         \u001b[1;32mreturn\u001b[0m \u001b[0mwrapper\u001b[0m\u001b[1;33m\u001b[0m\u001b[1;33m\u001b[0m\u001b[0m\n",
      "\u001b[1;32m~\\anaconda3\\lib\\site-packages\\graphviz\\piping.py\u001b[0m in \u001b[0;36m_pipe_legacy\u001b[1;34m(self, format, renderer, formatter, neato_no_op, quiet, engine, encoding)\u001b[0m\n\u001b[0;32m    119\u001b[0m                      \u001b[0mengine\u001b[0m\u001b[1;33m:\u001b[0m \u001b[0mtyping\u001b[0m\u001b[1;33m.\u001b[0m\u001b[0mOptional\u001b[0m\u001b[1;33m[\u001b[0m\u001b[0mstr\u001b[0m\u001b[1;33m]\u001b[0m \u001b[1;33m=\u001b[0m \u001b[1;32mNone\u001b[0m\u001b[1;33m,\u001b[0m\u001b[1;33m\u001b[0m\u001b[1;33m\u001b[0m\u001b[0m\n\u001b[0;32m    120\u001b[0m                      encoding: typing.Optional[str] = None) -> typing.Union[bytes, str]:\n\u001b[1;32m--> 121\u001b[1;33m         return self._pipe_future(format,\n\u001b[0m\u001b[0;32m    122\u001b[0m                                  \u001b[0mrenderer\u001b[0m\u001b[1;33m=\u001b[0m\u001b[0mrenderer\u001b[0m\u001b[1;33m,\u001b[0m\u001b[1;33m\u001b[0m\u001b[1;33m\u001b[0m\u001b[0m\n\u001b[0;32m    123\u001b[0m                                  \u001b[0mformatter\u001b[0m\u001b[1;33m=\u001b[0m\u001b[0mformatter\u001b[0m\u001b[1;33m,\u001b[0m\u001b[1;33m\u001b[0m\u001b[1;33m\u001b[0m\u001b[0m\n",
      "\u001b[1;32m~\\anaconda3\\lib\\site-packages\\graphviz\\piping.py\u001b[0m in \u001b[0;36m_pipe_future\u001b[1;34m(self, format, renderer, formatter, neato_no_op, quiet, engine, encoding)\u001b[0m\n\u001b[0;32m    159\u001b[0m             \u001b[1;32melse\u001b[0m\u001b[1;33m:\u001b[0m\u001b[1;33m\u001b[0m\u001b[1;33m\u001b[0m\u001b[0m\n\u001b[0;32m    160\u001b[0m                 \u001b[1;32mreturn\u001b[0m \u001b[0mraw\u001b[0m\u001b[1;33m.\u001b[0m\u001b[0mdecode\u001b[0m\u001b[1;33m(\u001b[0m\u001b[0mencoding\u001b[0m\u001b[1;33m)\u001b[0m\u001b[1;33m\u001b[0m\u001b[1;33m\u001b[0m\u001b[0m\n\u001b[1;32m--> 161\u001b[1;33m         \u001b[1;32mreturn\u001b[0m \u001b[0mself\u001b[0m\u001b[1;33m.\u001b[0m\u001b[0m_pipe_lines\u001b[0m\u001b[1;33m(\u001b[0m\u001b[1;33m*\u001b[0m\u001b[0margs\u001b[0m\u001b[1;33m,\u001b[0m \u001b[0minput_encoding\u001b[0m\u001b[1;33m=\u001b[0m\u001b[0mself\u001b[0m\u001b[1;33m.\u001b[0m\u001b[0mencoding\u001b[0m\u001b[1;33m,\u001b[0m \u001b[1;33m**\u001b[0m\u001b[0mkwargs\u001b[0m\u001b[1;33m)\u001b[0m\u001b[1;33m\u001b[0m\u001b[1;33m\u001b[0m\u001b[0m\n\u001b[0m",
      "\u001b[1;32m~\\anaconda3\\lib\\site-packages\\graphviz\\backend\\piping.py\u001b[0m in \u001b[0;36mpipe_lines\u001b[1;34m(engine, format, input_lines, input_encoding, renderer, formatter, neato_no_op, quiet)\u001b[0m\n\u001b[0;32m    159\u001b[0m     \u001b[0mkwargs\u001b[0m \u001b[1;33m=\u001b[0m \u001b[1;33m{\u001b[0m\u001b[1;34m'input_lines'\u001b[0m\u001b[1;33m:\u001b[0m \u001b[1;33m(\u001b[0m\u001b[0mline\u001b[0m\u001b[1;33m.\u001b[0m\u001b[0mencode\u001b[0m\u001b[1;33m(\u001b[0m\u001b[0minput_encoding\u001b[0m\u001b[1;33m)\u001b[0m \u001b[1;32mfor\u001b[0m \u001b[0mline\u001b[0m \u001b[1;32min\u001b[0m \u001b[0minput_lines\u001b[0m\u001b[1;33m)\u001b[0m\u001b[1;33m}\u001b[0m\u001b[1;33m\u001b[0m\u001b[1;33m\u001b[0m\u001b[0m\n\u001b[0;32m    160\u001b[0m \u001b[1;33m\u001b[0m\u001b[0m\n\u001b[1;32m--> 161\u001b[1;33m     \u001b[0mproc\u001b[0m \u001b[1;33m=\u001b[0m \u001b[0mexecute\u001b[0m\u001b[1;33m.\u001b[0m\u001b[0mrun_check\u001b[0m\u001b[1;33m(\u001b[0m\u001b[0mcmd\u001b[0m\u001b[1;33m,\u001b[0m \u001b[0mcapture_output\u001b[0m\u001b[1;33m=\u001b[0m\u001b[1;32mTrue\u001b[0m\u001b[1;33m,\u001b[0m \u001b[0mquiet\u001b[0m\u001b[1;33m=\u001b[0m\u001b[0mquiet\u001b[0m\u001b[1;33m,\u001b[0m \u001b[1;33m**\u001b[0m\u001b[0mkwargs\u001b[0m\u001b[1;33m)\u001b[0m\u001b[1;33m\u001b[0m\u001b[1;33m\u001b[0m\u001b[0m\n\u001b[0m\u001b[0;32m    162\u001b[0m     \u001b[1;32mreturn\u001b[0m \u001b[0mproc\u001b[0m\u001b[1;33m.\u001b[0m\u001b[0mstdout\u001b[0m\u001b[1;33m\u001b[0m\u001b[1;33m\u001b[0m\u001b[0m\n\u001b[0;32m    163\u001b[0m \u001b[1;33m\u001b[0m\u001b[0m\n",
      "\u001b[1;32m~\\anaconda3\\lib\\site-packages\\graphviz\\backend\\execute.py\u001b[0m in \u001b[0;36mrun_check\u001b[1;34m(cmd, input_lines, encoding, quiet, **kwargs)\u001b[0m\n\u001b[0;32m     82\u001b[0m     \u001b[1;32mexcept\u001b[0m \u001b[0mOSError\u001b[0m \u001b[1;32mas\u001b[0m \u001b[0me\u001b[0m\u001b[1;33m:\u001b[0m\u001b[1;33m\u001b[0m\u001b[1;33m\u001b[0m\u001b[0m\n\u001b[0;32m     83\u001b[0m         \u001b[1;32mif\u001b[0m \u001b[0me\u001b[0m\u001b[1;33m.\u001b[0m\u001b[0merrno\u001b[0m \u001b[1;33m==\u001b[0m \u001b[0merrno\u001b[0m\u001b[1;33m.\u001b[0m\u001b[0mENOENT\u001b[0m\u001b[1;33m:\u001b[0m\u001b[1;33m\u001b[0m\u001b[1;33m\u001b[0m\u001b[0m\n\u001b[1;32m---> 84\u001b[1;33m             \u001b[1;32mraise\u001b[0m \u001b[0mExecutableNotFound\u001b[0m\u001b[1;33m(\u001b[0m\u001b[0mcmd\u001b[0m\u001b[1;33m)\u001b[0m \u001b[1;32mfrom\u001b[0m \u001b[0me\u001b[0m\u001b[1;33m\u001b[0m\u001b[1;33m\u001b[0m\u001b[0m\n\u001b[0m\u001b[0;32m     85\u001b[0m         \u001b[1;32mraise\u001b[0m\u001b[1;33m\u001b[0m\u001b[1;33m\u001b[0m\u001b[0m\n\u001b[0;32m     86\u001b[0m \u001b[1;33m\u001b[0m\u001b[0m\n",
      "\u001b[1;31mExecutableNotFound\u001b[0m: failed to execute WindowsPath('dot'), make sure the Graphviz executables are on your systems' PATH"
     ]
    }
   ],
   "source": [
    "\"\"\"Part 1b\"\"\"\n",
    "import graphviz\n",
    "from IPython.display import Image, display\n",
    "\n",
    "# create a new graph\n",
    "diagram = graphviz.Digraph('Restaurant Recommendation System', format='png')\n",
    "diagram.attr(rankdir='TB', nodesep='4', ranksep='0.2')\n",
    "\n",
    "# define the nodes\n",
    "diagram.attr('node', shape='box')\n",
    "diagram.node('1', '1. welcome')\n",
    "diagram.node('2', '2. ask area')\n",
    "diagram.node('3', '3. ask food type')\n",
    "diagram.node('4', '4. ask price range')\n",
    "diagram.node('5', '5. check restaurant availability')\n",
    "diagram.node('6', '6. offer alternatives')\n",
    "diagram.node('7', '7. provide restaurant details')\n",
    "diagram.node('8', 'End Conversation')\n",
    "\n",
    "# define the expressions\n",
    "diagram.attr('node', shape=\"ellipse\", style='filled', fillcolor=\"lightpink\")\n",
    "diagram.node('i','express preferences')\n",
    "diagram.node('ii','reply area')\n",
    "diagram.node('iii','reply food type')\n",
    "diagram.node('iv','reply price range')\n",
    "diagram.node('v', 'user provides alternative preferences')\n",
    "\n",
    "# define tussenstadia\n",
    "diagram.attr('node', shape=\"diamond\", style='filled', fillcolor='lightblue')\n",
    "diagram.node('a', 'area expressed?')\n",
    "diagram.node('b','food kind expressed?')\n",
    "diagram.node('c','price range expressed?')\n",
    "diagram.node('d','restaurant available?')\n",
    "diagram.node('e','user asks for details?')\n",
    "\n",
    "# Define the transitions\n",
    "diagram.edge('1', 'i')\n",
    "diagram.edge('i','a')\n",
    "diagram.edge('a','2', label=\"no\")\n",
    "diagram.edge('a','b',label=\"yes\")\n",
    "diagram.edge ('2','ii')\n",
    "diagram.edge('ii','b')\n",
    "diagram.edge('b','3', label=\"no\")\n",
    "diagram.edge('b','c',label=\"yes\")\n",
    "diagram.edge('3','iii')\n",
    "diagram.edge('iii','c')\n",
    "diagram.edge('c','4',label=\"no\")\n",
    "diagram.edge('c','5',label=\"yes\")\n",
    "diagram.edge('4','iv')\n",
    "diagram.edge('iv','5')\n",
    "diagram.edge('5','d')\n",
    "diagram.edge('d','v',label='no')\n",
    "diagram.edge('d','7',label=\"yes\")\n",
    "diagram.edge('v','6')\n",
    "diagram.edge('6','7')\n",
    "diagram.edge('7','e')\n",
    "diagram.edge('e','7', label=\"yes\")\n",
    "diagram.edge('e','8',label='no')\n",
    "\n",
    "\n",
    "img = diagram.pipe(format='png')  # Render diagram in memory\n",
    "display(Image(img))  # Display image directly in the notebook\n"
   ]
  },
  {
   "cell_type": "code",
   "execution_count": 5,
   "metadata": {},
   "outputs": [
    {
     "name": "stdout",
     "output_type": "stream",
     "text": [
      "system: Welcome to the best restaurant chatbot ever. What kind of food do you like?\n",
      "{'moderate', 'cheap', 'expensive'}\n"
     ]
    }
   ],
   "source": [
    "#dialogmanament\n",
    "import pandas as pd\n",
    "\"\"\"je moeder\"\"\"\n",
    "info = dict()\n",
    "food = []\n",
    "area = []\n",
    "pricerange = []\n",
    "\n",
    "def dataread(filename):\n",
    "    df = pd.read_csv(filename)\n",
    "    #print(df)\n",
    "    food = []\n",
    "    area = []\n",
    "    pricerange = []\n",
    "    for i in df.iloc:\n",
    "        #print(i[2])\n",
    "        food.append(i[3])\n",
    "        area.append(i[2])\n",
    "        pricerange.append(i[1])\n",
    "    food = set(food)\n",
    "    area = set(area)\n",
    "    pricerange = set(pricerange) \n",
    "    return food, area, pricerange\n",
    "\n",
    "def match(input1):\n",
    "    for word in input1:\n",
    "        if word in food:\n",
    "            return \"food\"\n",
    "        if word in pricerange:\n",
    "            return \"pricerange\"\n",
    "        if word in area:\n",
    "            return \"area\"\n",
    "        else:\n",
    "            return \"somethingelse\"\n",
    "            \n",
    "\n",
    "food, area, pricerange = dataread(\"../data/restaurant_info.csv\")\n",
    "print(\"system: Welcome to the best restaurant chatbot ever. What kind of food do you like?\")\n",
    "#input1 = input()\n",
    "#start(input1)\n"
   ]
  },
  {
   "cell_type": "code",
   "execution_count": 8,
   "metadata": {},
   "outputs": [
    {
     "name": "stdout",
     "output_type": "stream",
     "text": [
      "Collecting Levenshtein\n",
      "  Downloading levenshtein-0.26.0-cp39-cp39-win_amd64.whl (98 kB)\n",
      "Collecting rapidfuzz<4.0.0,>=3.9.0\n",
      "  Downloading rapidfuzz-3.10.0-cp39-cp39-win_amd64.whl (1.6 MB)\n",
      "Installing collected packages: rapidfuzz, Levenshtein\n",
      "Successfully installed Levenshtein-0.26.0 rapidfuzz-3.10.0\n"
     ]
    },
    {
     "name": "stderr",
     "output_type": "stream",
     "text": [
      "WARNING: Ignoring invalid distribution -rotobuf (c:\\users\\lucmi\\anaconda3\\lib\\site-packages)\n",
      "WARNING: Ignoring invalid distribution -rotobuf (c:\\users\\lucmi\\anaconda3\\lib\\site-packages)\n",
      "WARNING: Ignoring invalid distribution -rotobuf (c:\\users\\lucmi\\anaconda3\\lib\\site-packages)\n",
      "WARNING: Ignoring invalid distribution -rotobuf (c:\\users\\lucmi\\anaconda3\\lib\\site-packages)\n",
      "WARNING: Ignoring invalid distribution -rotobuf (c:\\users\\lucmi\\anaconda3\\lib\\site-packages)\n",
      "WARNING: Ignoring invalid distribution -rotobuf (c:\\users\\lucmi\\anaconda3\\lib\\site-packages)\n",
      "WARNING: Ignoring invalid distribution -rotobuf (c:\\users\\lucmi\\anaconda3\\lib\\site-packages)\n",
      "WARNING: Ignoring invalid distribution -rotobuf (c:\\users\\lucmi\\anaconda3\\lib\\site-packages)\n"
     ]
    }
   ],
   "source": [
    "!pip install Levenshtein"
   ]
  },
  {
   "cell_type": "code",
   "execution_count": 12,
   "metadata": {},
   "outputs": [],
   "source": [
    "import sys\n",
    "import os\n",
    "import pandas as pd\n",
    "import ml_2_logistic_regression as lr\n",
    "\n",
    "import keyword_mapping as km\n",
    "restaurant_database = pd.read_csv(\"../data/restaurant_info.csv\")\n",
    "preference_categories_dict = km.initiate_category_dict(restaurant_database)\n",
    "#preferences_list = km.extract_preferences(\"want italian food but also cheap\", preference_categories_dict)\n",
    "#print(km.get_restaurant(preferences_list, restaurant_database))\n",
    "def start(input1):\n",
    "    matched = match(input1) #todo good, now its shit\n",
    "    if matched == \"food\":\n",
    "        askfood(input1)\n",
    "        print(\"In what area do you want to eat?\")\n",
    "        askarea(input)\n",
    "        print('what pricerange?')\n",
    "        askprice()\n",
    "        \n",
    "    if matched == \"price\":\n",
    "        askarea(input)\n",
    "        print('what kind of food mate')\n",
    "        askfood(input1)\n",
    "        print('what pricerange?')\n",
    "        askprice(input)\n",
    "    if matched == \"area\":\n",
    "        askprice(input)\n",
    "        print(\"In what area do you want to eat?\")\n",
    "\n",
    "        askarea(input)\n",
    "        print('what kind of food mate')\n",
    "        askfood(input1)\n",
    "       \n",
    "    else:\n",
    "        print(\"youre not making any sense you plonker\")\n",
    "        start(input)\n",
    "        #continue\n",
    "    #preferences_list = km.extract_preferences(input1, preference_categories_dict)\n",
    "    #print(km.get_restaurant(preferences_list, restaurant_database))\n",
    "def askfood(input1):\n",
    "    if food_expressed:\n",
    "            info[\"food\"] = the_food\n",
    "    else:\n",
    "        print(\"be more specific bro\")\n",
    "        askfood(input())\n",
    "def askarea(input1):\n",
    "    if area_expressed:\n",
    "            info[\"area\"] = the_area\n",
    "    else:\n",
    "        print(\"be more specific bro\")\n",
    "        askarea(input())\n",
    "def askprice(input1):\n",
    "    if price_expressed:\n",
    "            info[\"price\"] = the_price\n",
    "    else:\n",
    "        print(\"be more specific bro\")\n",
    "        askprice(input())\n"
   ]
  },
  {
   "cell_type": "code",
   "execution_count": 13,
   "metadata": {},
   "outputs": [
    {
     "name": "stdout",
     "output_type": "stream",
     "text": [
      "system: Welcome to the best restaurant chatbot ever. What kind of food do you like?\n",
      "i want a nigger in a cotton field\n",
      "['saint johns chop house', 'restaurant alimentum', 'pizza hut cherry hinton', 'the gardenia', 'loch fyne', 'yu garden', 'sitar tandoori', 'saigon city', 'restaurant two two', 'the hotpot', 'nandos', 'peking restaurant', 'rajmahal', 'pizza hut fen ditton', 'the missing sock', 'royal standard', 'grafton hotel restaurant', 'dojo noodle bar', 'cambridge lodge restaurant', 'thanh binh', 'stazione restaurant and coffee bar', 'cote', 'cotto', 'bangkok city', 'frankie and bennys', 'the cow pizza kitchen and bar', 'eraina', 'curry garden', 'mahal of cambridge', 'golden wok', 'meghna', 'the nirala', 'michaelhouse cafe', 'efes restaurant', 'chiquito restaurant bar', 'caffe uno', 'j restaurant', 'la margherita', 'cocum', 'city stop restaurant', 'sala thong', 'don pasquale pizzeria', 'little seoul', 'rice house', 'the river bar steakhouse and grill', 'nandos city centre', 'prezzo', 'galleria', 'bloomsbury restaurant', 'the good luck chinese food takeaway', 'the varsity restaurant', 'de luca cucina and bar', 'da vinci pizzeria', 'shiraz restaurant', 'the lucky star', 'royal spice', 'ask', 'taj tandoori', 'tandoori palace', 'yippee noodle bar', 'travellers rest', 'maharajah tandoori restaurant', 'shanghai family restaurant', 'curry prince', 'the gandhi', 'kymmoy', 'golden house', 'bedouin', 'pipasha restaurant', 'charlie chan', 'lan hong house', 'la tasca', 'backstreet bistro', 'la raza', 'the slug and lettuce', 'restaurant one seven', 'fitzbillies restaurant', 'anatolia', 'clowns cafe', 'kohinoor', 'the cambridge chop house', 'gourmet burger kitchen', 'la mimosa', 'meze bar restaurant', 'the golden curry', 'curry queen', 'hakka', 'the oak bistro', 'riverside brasserie', 'the copper kettle', 'zizzi cambridge', 'saffron brasserie', 'india house', 'ali baba', 'rice boat', 'midsummer house restaurant', 'hotel du vin and bistro', 'darrys cookhouse and wine shop', 'pizza express', 'jinling noodle bar', 'graffiti', 'wagamama', 'pizza hut city centre', 'curry king', 'panahar', 'ugly duckling', 'pizza express fen ditton', 'sesame restaurant and bar', 'hk fusion']\n"
     ]
    }
   ],
   "source": [
    "print(\"system: Welcome to the best restaurant chatbot ever. What kind of food do you like?\")\n",
    "\n",
    "inp = input()\n",
    "start(inp)"
   ]
  },
  {
   "cell_type": "code",
   "execution_count": null,
   "metadata": {},
   "outputs": [],
   "source": []
  }
 ],
 "metadata": {
  "kernelspec": {
   "display_name": "Python 3 (ipykernel)",
   "language": "python",
   "name": "python3"
  },
  "language_info": {
   "codemirror_mode": {
    "name": "ipython",
    "version": 3
   },
   "file_extension": ".py",
   "mimetype": "text/x-python",
   "name": "python",
   "nbconvert_exporter": "python",
   "pygments_lexer": "ipython3",
   "version": "3.9.7"
  }
 },
 "nbformat": 4,
 "nbformat_minor": 2
}
